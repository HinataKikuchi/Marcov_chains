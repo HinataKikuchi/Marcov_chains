{
 "metadata": {
  "language_info": {
   "codemirror_mode": {
    "name": "ipython",
    "version": 3
   },
   "file_extension": ".py",
   "mimetype": "text/x-python",
   "name": "python",
   "nbconvert_exporter": "python",
   "pygments_lexer": "ipython3",
   "version": "3.8.5-final"
  },
  "orig_nbformat": 2,
  "kernelspec": {
   "name": "Python 3.8.5 32-bit ('.venv')",
   "display_name": "Python 3.8.5 32-bit ('.venv')",
   "metadata": {
    "interpreter": {
     "hash": "72fce3dea2b39fbfaf3ec333901b9c768a6445f500793a912d9bcad848fbbcd3"
    }
   }
  }
 },
 "nbformat": 4,
 "nbformat_minor": 2,
 "cells": [
  {
   "cell_type": "code",
   "execution_count": 5,
   "metadata": {},
   "outputs": [
    {
     "output_type": "execute_result",
     "data": {
      "text/plain": [
       "[['__BEGIN__', 'おいしい', 'ビール'],\n",
       " ['おいしい', 'ビール', 'を'],\n",
       " ['ビール', 'を', '飲も'],\n",
       " ['を', '飲も', 'う'],\n",
       " ['飲も', 'う', '__END__']]"
      ]
     },
     "metadata": {},
     "execution_count": 5
    }
   ],
   "source": [
    "from janome.tokenizer import Tokenizer\n",
    "\n",
    "# 開始、終端記号を設定する。\n",
    "BEGIN = '__BEGIN__'\n",
    "END = '__END__'\n",
    "# 実際に一文を3単語ずつに分けてみる。\n",
    "sentence = 'おいしいビールを飲もう'\n",
    "\n",
    "t = Tokenizer()\n",
    "# ここで型変換しないとgeneratorのリストができてしまう\n",
    "# 分かち書きした文章に開始終端記号を追加してリストにする\n",
    "words = list(t.tokenize(sentence, wakati=True))\n",
    "words = [BEGIN] + words + [END]\n",
    "\n",
    "# ['__BEGIN__', 'おいしい', 'ビール', 'を', '飲も', 'う', '__END__']\n",
    "# 3単語ずつを1つのリストにすると全体の単語数ー２の回数回さないといけない\n",
    "three_words_list = []\n",
    "for i in range(len(words) - 2):\n",
    "    #3単語ずつ一つリストに追加していく\n",
    "    three_words_list.append(words[i:i + 3])\n",
    "three_words_list"
   ]
  },
  {
   "cell_type": "code",
   "execution_count": 6,
   "metadata": {},
   "outputs": [
    {
     "output_type": "execute_result",
     "data": {
      "text/plain": [
       "Counter({('__BEGIN__', 'おいしい', 'ビール'): 2,\n",
       "         ('おいしい', 'ビール', 'を'): 1,\n",
       "         ('ビール', 'を', '飲も'): 2,\n",
       "         ('を', '飲も', 'う'): 2,\n",
       "         ('飲も', 'う', '__END__'): 2,\n",
       "         ('__BEGIN__', 'ビール', 'を'): 2,\n",
       "         ('おいしい', 'ビール', 'は'): 1,\n",
       "         ('ビール', 'は', '生'): 1,\n",
       "         ('は', '生', '__END__'): 1,\n",
       "         ('ビール', 'を', '飲ん'): 1,\n",
       "         ('を', '飲ん', 'で'): 1,\n",
       "         ('飲ん', 'で', '休も'): 1,\n",
       "         ('で', '休も', 'う'): 1,\n",
       "         ('休も', 'う', '__END__'): 1,\n",
       "         ('__BEGIN__', 'おいしい', 'お'): 1,\n",
       "         ('おいしい', 'お', '酒'): 1,\n",
       "         ('お', '酒', 'が'): 1,\n",
       "         ('酒', 'が', '飲み'): 1,\n",
       "         ('が', '飲み', 'たい'): 1,\n",
       "         ('飲み', 'たい', '__END__'): 1})"
      ]
     },
     "metadata": {},
     "execution_count": 6
    }
   ],
   "source": [
    "from collections import Counter\n",
    "# さっきのをモジュール化する\n",
    "def get_three_words_list(sentence):\n",
    "    \"\"\"文章を3単語の組にして返す\"\"\"\n",
    "    t = Tokenizer()\n",
    "    words = list(t.tokenize(sentence, wakati=True))\n",
    "    words = [BEGIN] + words + [END]\n",
    "    three_words_list = []\n",
    "    for i in range(len(words) - 2):\n",
    "        three_words_list.append(tuple(words[i:i+3]))\n",
    "    return three_words_list\n",
    "\n",
    "sentences = ['おいしいビールを飲もう', 'ビールを飲もう', 'おいしいビールは生','ビールを飲んで休もう', 'おいしいお酒が飲みたい']\n",
    "three_words_list = []\n",
    "# リストに追加されている3単語つづりの内容の出現率をカウントしてリストに追加\n",
    "for sentence in sentences:\n",
    "    three_words_list += get_three_words_list(sentence)\n",
    "three_words_count = Counter(three_words_list)\n",
    "three_words_count\n"
   ]
  },
  {
   "cell_type": "code",
   "execution_count": 7,
   "metadata": {},
   "outputs": [
    {
     "output_type": "execute_result",
     "data": {
      "text/plain": [
       "{('__BEGIN__', 'おいしい'): {'words': ['ビール', 'お'], 'weights': [2, 1]},\n",
       " ('おいしい', 'ビール'): {'words': ['を', 'は'], 'weights': [1, 1]},\n",
       " ('ビール', 'を'): {'words': ['飲も', '飲ん'], 'weights': [2, 1]},\n",
       " ('を', '飲も'): {'words': ['う'], 'weights': [2]},\n",
       " ('飲も', 'う'): {'words': ['__END__'], 'weights': [2]},\n",
       " ('__BEGIN__', 'ビール'): {'words': ['を'], 'weights': [2]},\n",
       " ('ビール', 'は'): {'words': ['生'], 'weights': [1]},\n",
       " ('は', '生'): {'words': ['__END__'], 'weights': [1]},\n",
       " ('を', '飲ん'): {'words': ['で'], 'weights': [1]},\n",
       " ('飲ん', 'で'): {'words': ['休も'], 'weights': [1]},\n",
       " ('で', '休も'): {'words': ['う'], 'weights': [1]},\n",
       " ('休も', 'う'): {'words': ['__END__'], 'weights': [1]},\n",
       " ('おいしい', 'お'): {'words': ['酒'], 'weights': [1]},\n",
       " ('お', '酒'): {'words': ['が'], 'weights': [1]},\n",
       " ('酒', 'が'): {'words': ['飲み'], 'weights': [1]},\n",
       " ('が', '飲み'): {'words': ['たい'], 'weights': [1]},\n",
       " ('飲み', 'たい'): {'words': ['__END__'], 'weights': [1]}}"
      ]
     },
     "metadata": {},
     "execution_count": 7
    }
   ],
   "source": [
    "def generate_marcov_dict(three_words_count):\n",
    "    \"\"\"マルコフ連鎖での文章作成用の辞書データを作成する\"\"\"\n",
    "    # key : 前半二つの単語\n",
    "    # value : 次の単語とその重みとして出現回数を追加する\n",
    "    markov_dict = {}\n",
    "    #　前半の3単語とその重みで分ける\n",
    "    #three_words = 3単語, count = 重み\n",
    "    # for文の処理の中でさらに前半2単語後半1単語に分ける。\n",
    "    for three_words, count in three_words_count.items():\n",
    "        two_words = three_words[:2]\n",
    "        next_word = three_words[2]\n",
    "        # keyが新出の場合のみ辞書に追加\n",
    "        if two_words not in markov_dict:\n",
    "            markov_dict[two_words] = {'words': [], 'weights': []}\n",
    "        # keyが既出でvalueが新出のときはここで追加されていく。\n",
    "        markov_dict[two_words]['words'].append(next_word)\n",
    "        markov_dict[two_words]['weights'].append(count)\n",
    "    return markov_dict\n",
    "\n",
    "markov_dict = generate_marcov_dict(three_words_count)\n",
    "markov_dict\n"
   ]
  },
  {
   "cell_type": "code",
   "execution_count": 8,
   "metadata": {},
   "outputs": [
    {
     "output_type": "execute_result",
     "data": {
      "text/plain": [
       "defaultdict(int, {'おいしい': 3, 'ビール': 2})"
      ]
     },
     "metadata": {},
     "execution_count": 8
    }
   ],
   "source": [
    "# ここまでの内容をcollectionライブラリの関数defaultdictを使って簡略化する。\n",
    "from collections import defaultdict\n",
    "\n",
    "def get_first_word_and_count(three_words_count):\n",
    "    \"\"\"最初の単語を選択するための辞書データを作成する\"\"\"\n",
    "    # 引数をintとすると初期値は0になる\n",
    "    first_word_count = defaultdict(int)\n",
    "# 3単語ずつの辞書を回してBEGINから始まる単語を検索する。またその回数をカウントする。\n",
    "# key : 初めの単語\n",
    "# value : keyの出現回数\n",
    "    for three_words, count in three_words_count.items():\n",
    "        if three_words[0] == BEGIN:\n",
    "            next_word = three_words[1]\n",
    "            first_word_count[next_word] += count\n",
    "\n",
    "    return first_word_count\n",
    "\n",
    "get_first_word_and_count(three_words_count)\n"
   ]
  },
  {
   "cell_type": "code",
   "execution_count": 9,
   "metadata": {},
   "outputs": [
    {
     "output_type": "execute_result",
     "data": {
      "text/plain": [
       "(['おいしい', 'ビール'], [3, 2])"
      ]
     },
     "metadata": {},
     "execution_count": 9
    }
   ],
   "source": [
    "def get_first_words_weights(three_words_count):\n",
    "    \"\"\"最初の単語と重みのリストを作成する\"\"\"\n",
    "    # ひとつ前で得た辞書データの形式を変換する。\n",
    "    # random.choices()に渡しやすくするためにどっちもリストにして保管\n",
    "    first_word_count = get_first_word_and_count(three_words_count)\n",
    "    words = []\n",
    "    weights = []\n",
    "    for word, count in first_word_count.items():\n",
    "        words.append(word)\n",
    "        weights.append(count)\n",
    "\n",
    "    return words, weights\n",
    "\n",
    "first_words, first_weights = get_first_words_weights(three_words_count)\n",
    "first_words, first_weights"
   ]
  },
  {
   "cell_type": "code",
   "execution_count": 10,
   "metadata": {},
   "outputs": [
    {
     "output_type": "stream",
     "name": "stdout",
     "text": [
      "ビールを飲もう\nおいしいビールは生\nビールを飲もう\nおいしいビールは生\nおいしいビールを飲もう\n"
     ]
    }
   ],
   "source": [
    "import random\n",
    "\n",
    "def generate_text(first_words, first_weights, markov_dict):\n",
    "    \"\"\"入力された辞書データをもとに文章を生成する\"\"\"\n",
    "\n",
    "    # 最初の単語を選ぶ\n",
    "    first_word = random.choices(first_words, weights=first_weights)[0]\n",
    "    generate_words = [BEGIN, first_word]\n",
    "    while True:\n",
    "        pair = tuple(generate_words[-2:])\n",
    "        words = markov_dict[pair]['words']\n",
    "        weights = markov_dict[pair]['weights']\n",
    "        next_word = random.choices(words, weights=weights)[0]\n",
    "        if next_word == END:\n",
    "            break\n",
    "        generate_words.append(next_word)\n",
    "\n",
    "    return ''.join(generate_words[1:])\n",
    "\n",
    "for i in range(5):\n",
    "    text = generate_text(first_words, first_weights, markov_dict)\n",
    "    print(text)\n",
    "\n"
   ]
  },
  {
   "cell_type": "code",
   "execution_count": 11,
   "metadata": {},
   "outputs": [],
   "source": [
    "# ここから実データを取得して実際に文章を生成する。\n",
    "import requests\n",
    "\n",
    "#人間失格のURL\n",
    "url = 'https://www.aozora.gr.jp/cards/000035/files/301_ruby_5915.zip'\n",
    "r = requests.get(url)\n",
    "content = r.content\n"
   ]
  },
  {
   "cell_type": "code",
   "execution_count": 12,
   "metadata": {},
   "outputs": [
    {
     "output_type": "execute_result",
     "data": {
      "text/plain": [
       "['ningen_shikkaku.txt']"
      ]
     },
     "metadata": {},
     "execution_count": 12
    }
   ],
   "source": [
    "# ioは標準ライブラリ\n",
    "# io.BytesIO()を使ってバイナリデータをzipとして扱えるようにする\n",
    "import io\n",
    "import zipfile\n",
    "\n",
    "# バイナリをファイルのように変換\n",
    "f = io.BytesIO(content)\n",
    "# zipファイルを開く\n",
    "zipf = zipfile.ZipFile(f)\n",
    "#開いたファイルの一覧を取得\n",
    "namelist = zipf.namelist()\n",
    "namelist"
   ]
  },
  {
   "cell_type": "code",
   "execution_count": 13,
   "metadata": {},
   "outputs": [
    {
     "output_type": "stream",
     "name": "stdout",
     "text": [
      "人間失格\n太宰治\n\n-------------------------------------------------------\n【テキスト中に現れる記号について】\n\n《》：ルビ\n（例）従姉妹《いとこ》\n\n｜：ルビの付く文字列の始まりを特定する記号\n（例）昔｜気質《かたぎ》\n\n［＃］：入力者注　主に外字の説明や、傍点の位置の指定\n（例）［＃３字下げ］はしがき［＃「はしがき」は大見出し］\n-------------------------------------------------------\n\n［＃３字下げ］はしがき［＃「はしがき」は大見出し］\n\n\n　私は、その男の写真を三葉、見たことがある。\n　一葉は、その男の、幼年時代、とでも言うべきであろうか、十歳前後かと推定される頃の写真であって、その子供が大勢の女のひとに取りかこまれ、（それは、その子供の姉たち、妹たち、それから、従姉妹《いとこ》たちかと想像される）庭園の池のほとりに、荒い縞の袴《はかま》をはいて立ち、首を三十度ほど左に傾け、醜く笑っている写真である。醜く？　けれども、鈍い人たち（\n"
     ]
    }
   ],
   "source": [
    "data = zipf.read(namelist[0])\n",
    "original_text = data.decode('Shift_JIS')\n",
    "print(original_text[:500])"
   ]
  },
  {
   "cell_type": "code",
   "execution_count": null,
   "metadata": {},
   "outputs": [],
   "source": [
    "import re\n",
    "\n",
    "first_sentence = '私は、その男の写真を三葉、見たことがある'\n",
    "last_sentence = '神様みたいないい子でした'\n",
    "_, text = original_text.split(first_sentence)\n",
    "text, _ = text.split(last_sentence)\n",
    "text = first_sentence + text + last_sentence\n",
    "\n",
    "text = text.replace('|', '').replace(' ', '')\n",
    "text = re.sub(' [')"
   ]
  }
 ]
}