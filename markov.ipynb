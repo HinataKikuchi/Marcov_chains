{
 "metadata": {
  "language_info": {
   "codemirror_mode": {
    "name": "ipython",
    "version": 3
   },
   "file_extension": ".py",
   "mimetype": "text/x-python",
   "name": "python",
   "nbconvert_exporter": "python",
   "pygments_lexer": "ipython3",
   "version": "3.8.5-final"
  },
  "orig_nbformat": 2,
  "kernelspec": {
   "name": "Python 3.8.5 32-bit ('.venv')",
   "display_name": "Python 3.8.5 32-bit ('.venv')",
   "metadata": {
    "interpreter": {
     "hash": "72fce3dea2b39fbfaf3ec333901b9c768a6445f500793a912d9bcad848fbbcd3"
    }
   }
  }
 },
 "nbformat": 4,
 "nbformat_minor": 2,
 "cells": [
  {
   "cell_type": "code",
   "execution_count": 11,
   "metadata": {},
   "outputs": [
    {
     "output_type": "stream",
     "name": "stdout",
     "text": [
      "['__BEGIN__', 'おいしい', 'ビール', 'を', '飲も', 'う', '__END__']\nおいしい\t形容詞,自立,*,*,形容詞・イ段,基本形,おいしい,オイシイ,オイシイ\nビール\t名詞,一般,*,*,*,*,ビール,ビール,ビール\nを\t助詞,格助詞,一般,*,*,*,を,ヲ,ヲ\n飲も\t動詞,自立,*,*,五段・マ行,未然ウ接続,飲む,ノモ,ノモ\nう\t助動詞,*,*,*,不変化型,基本形,う,ウ,ウ\n"
     ]
    },
    {
     "output_type": "execute_result",
     "data": {
      "text/plain": [
       "[['__BEGIN__', 'おいしい', 'ビール'],\n",
       " ['おいしい', 'ビール', 'を'],\n",
       " ['ビール', 'を', '飲も'],\n",
       " ['を', '飲も', 'う'],\n",
       " ['飲も', 'う', '__END__']]"
      ]
     },
     "metadata": {},
     "execution_count": 11
    }
   ],
   "source": [
    "from janome.tokenizer import Tokenizer\n",
    "\n",
    "# 開始、終端記号を設定する。\n",
    "BEGIN = '__BEGIN__'\n",
    "END = '__END__'\n",
    "# 実際に一文を3単語ずつに分けてみる。\n",
    "sentence = 'おいしいビールを飲もう'\n",
    "\n",
    "t = Tokenizer()\n",
    "# ここで型変換しないとgeneratorのリストができてしまう\n",
    "# 分かち書きした文章に開始終端記号を追加してリストにする\n",
    "words = list(t.tokenize(sentence, wakati=True))\n",
    "words = [BEGIN] + words + [END]\n",
    "\n",
    "# ['__BEGIN__', 'おいしい', 'ビール', 'を', '飲も', 'う', '__END__']\n",
    "# 3単語ずつを1つのリストにすると全体の単語数ー２の回数回さないといけない\n",
    "three_words_list = []\n",
    "for i in range(len(words) - 2):\n",
    "    #3単語ずつ一つリストに追加していく\n",
    "    three_words_list.append(words[i:i + 3])\n",
    "three_words_list"
   ]
  },
  {
   "cell_type": "code",
   "execution_count": 20,
   "metadata": {},
   "outputs": [
    {
     "output_type": "execute_result",
     "data": {
      "text/plain": [
       "Counter({('__BEGIN__', 'おいしい', 'ビール'): 2,\n",
       "         ('おいしい', 'ビール', 'を'): 1,\n",
       "         ('ビール', 'を', '飲も'): 2,\n",
       "         ('を', '飲も', 'う'): 2,\n",
       "         ('飲も', 'う', '__END__'): 2,\n",
       "         ('__BEGIN__', 'ビール', 'を'): 1,\n",
       "         ('おいしい', 'ビール', 'は'): 1,\n",
       "         ('ビール', 'は', '生'): 1,\n",
       "         ('は', '生', '__END__'): 1})"
      ]
     },
     "metadata": {},
     "execution_count": 20
    }
   ],
   "source": [
    "from collections import Counter\n",
    "# さっきのをモジュール化する\n",
    "def get_three_words_list(sentence):\n",
    "    \"\"\"文章を3単語の組にして返す\"\"\"\n",
    "    t = Tokenizer()\n",
    "    words = list(t.tokenize(sentence, wakati=True))\n",
    "    words = [BEGIN] + words + [END]\n",
    "    three_words_list = []\n",
    "    for i in range(len(words) - 2):\n",
    "        three_words_list.append(tuple(words[i:i+3]))\n",
    "    return three_words_list\n",
    "\n",
    "sentences = ['おいしいビールを飲もう', 'ビールを飲もう', 'おいしいビールは生']\n",
    "three_words_list = []\n",
    "# リストに追加されている3単語つづりの内容の出現率をカウントしてリストに追加\n",
    "for sentence in sentences:\n",
    "    three_words_list += get_three_words_list(sentence)\n",
    "three_words_count = Counter(three_words_list)\n",
    "three_words_count\n"
   ]
  },
  {
   "cell_type": "code",
   "execution_count": 25,
   "metadata": {},
   "outputs": [
    {
     "output_type": "execute_result",
     "data": {
      "text/plain": [
       "{('__BEGIN__', 'おいしい'): {'words': ['ビール'], 'weights': [2]},\n",
       " ('おいしい', 'ビール'): {'words': ['を', 'は'], 'weights': [1, 1]},\n",
       " ('ビール', 'を'): {'words': ['飲も'], 'weights': [2]},\n",
       " ('を', '飲も'): {'words': ['う'], 'weights': [2]},\n",
       " ('飲も', 'う'): {'words': ['__END__'], 'weights': [2]},\n",
       " ('__BEGIN__', 'ビール'): {'words': ['を'], 'weights': [1]},\n",
       " ('ビール', 'は'): {'words': ['生'], 'weights': [1]},\n",
       " ('は', '生'): {'words': ['__END__'], 'weights': [1]}}"
      ]
     },
     "metadata": {},
     "execution_count": 25
    }
   ],
   "source": [
    "def generate_marcov_dict(three_words_count):\n",
    "    \"\"\"マルコフ連鎖での文章作成用の辞書データを作成する\"\"\"\n",
    "    # key : 前半二つの単語\n",
    "    # value : 次の単語とその重みとして出現回数を追加する\n",
    "    markov_dict = {}\n",
    "    #　前半の3単語とその重みで分ける\n",
    "    #three_words = 3単語, count = 重み\n",
    "    # for文の処理の中でさらに前半2単語後半1単語に分ける。\n",
    "    for three_words, count in three_words_count.items():\n",
    "        two_words = three_words[:2]\n",
    "        next_word = three_words[2]\n",
    "        # keyが新出の場合のみ辞書に追加\n",
    "        if two_words not in markov_dict:\n",
    "            markov_dict[two_words] = {'words': [], 'weights': []}\n",
    "        # keyが既出でvalueが新出のときはここで追加されていく。\n",
    "        markov_dict[two_words]['words'].append(next_word)\n",
    "        markov_dict[two_words]['weights'].append(count)\n",
    "    return markov_dict\n",
    "\n",
    "markov_dict = generate_marcov_dict(three_words_count)\n",
    "markov_dict\n"
   ]
  },
  {
   "cell_type": "code",
   "execution_count": null,
   "metadata": {},
   "outputs": [],
   "source": []
  }
 ]
}