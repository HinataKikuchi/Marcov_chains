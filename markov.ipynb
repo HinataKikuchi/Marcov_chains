{
 "metadata": {
  "language_info": {
   "codemirror_mode": {
    "name": "ipython",
    "version": 3
   },
   "file_extension": ".py",
   "mimetype": "text/x-python",
   "name": "python",
   "nbconvert_exporter": "python",
   "pygments_lexer": "ipython3",
   "version": "3.8.5-final"
  },
  "orig_nbformat": 2,
  "kernelspec": {
   "name": "Python 3.8.5 32-bit ('.venv': venv)",
   "display_name": "Python 3.8.5 32-bit ('.venv': venv)",
   "metadata": {
    "interpreter": {
     "hash": "72fce3dea2b39fbfaf3ec333901b9c768a6445f500793a912d9bcad848fbbcd3"
    }
   }
  }
 },
 "nbformat": 4,
 "nbformat_minor": 2,
 "cells": [
  {
   "cell_type": "code",
   "execution_count": 6,
   "metadata": {},
   "outputs": [
    {
     "output_type": "execute_result",
     "data": {
      "text/plain": [
       "[['__BEGIN__', 'おいしい', 'ビール'],\n",
       " ['おいしい', 'ビール', 'を'],\n",
       " ['ビール', 'を', '飲も'],\n",
       " ['を', '飲も', 'う'],\n",
       " ['飲も', 'う', '__END__']]"
      ]
     },
     "metadata": {},
     "execution_count": 6
    }
   ],
   "source": [
    "from janome.tokenizer import Tokenizer\n",
    "\n",
    "BEGIN = '__BEGIN__'\n",
    "END = '__END__'\n",
    "\n",
    "sentence = 'おいしいビールを飲もう'\n",
    "\n",
    "t = Tokenizer()\n",
    "words = list(t.tokenize(sentence, wakati=True))\n",
    "words = [BEGIN] + words + [END]\n",
    "\n",
    "three_words_list = []\n",
    "for i in range(len(words) - 2):\n",
    "    three_words_list.append(words[i:i + 3])\n",
    "three_words_list"
   ]
  },
  {
   "cell_type": "code",
   "execution_count": 8,
   "metadata": {},
   "outputs": [
    {
     "output_type": "execute_result",
     "data": {
      "text/plain": [
       "Counter({('__BEGIN__', 'おいしい', 'ビール'): 2,\n",
       "         ('おいしい', 'ビール', 'を'): 2,\n",
       "         ('ビール', 'を', '飲も'): 3,\n",
       "         ('を', '飲も', 'う'): 3,\n",
       "         ('飲も', 'う', '__END__'): 3,\n",
       "         ('__BEGIN__', 'ビール', 'を'): 1})"
      ]
     },
     "metadata": {},
     "execution_count": 8
    }
   ],
   "source": [
    "from collections import Counter\n",
    "\n",
    "def get_three_words_list(sentence):\n",
    "    \"\"\"文章を3単語の組にして返す\"\"\"\n",
    "    t = Tokenizer()\n",
    "    words = list(t.tokenize(sentence, wakati=True))\n",
    "    words = [BEGIN] + words + [END]\n",
    "    three_words_list = []\n",
    "    for i in range(len(words) - 2):\n",
    "        three_words_list.append(tuple(words[i:i+3]))\n",
    "    return three_words_list\n",
    "\n",
    "sentences = ['おいしいビールを飲もう', 'ビールを飲もう', 'おいしいビールを飲もう']\n",
    "three_words_list = []\n",
    "for sentence in sentences:\n",
    "    three_words_list += get_three_words_list(sentence)\n",
    "three_words_count = Counter(three_words_list)\n",
    "three_words_count\n"
   ]
  },
  {
   "cell_type": "code",
   "execution_count": null,
   "metadata": {},
   "outputs": [],
   "source": []
  }
 ]
}